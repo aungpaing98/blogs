{
 "cells": [
  {
   "cell_type": "markdown",
   "metadata": {},
   "source": [
    "# Typography\n",
    "\n",
    "> Typography is the changing, arranging and ordering of typeface.\n",
    "\n",
    "- toc: true\n",
    "- badges: false\n",
    "- comments: true\n",
    "- image: images/typography.png\n",
    "- categories: [front-end, typography, color, typeface, font, design, google]"
   ]
  },
  {
   "cell_type": "markdown",
   "metadata": {},
   "source": [
    "## What is typography\n",
    "\n",
    "Typography is the changing, arranging and ordering of typeface. An image is worth a thoundsand words, but a nice typography can also greatly impact on the design of the project.\n",
    "\n",
    "The main utility of the typography is to deliver the clean message to the reader. A nice typography consists of the clean layout, correct ordering and legiblity. It can also display the emotion of the designer."
   ]
  },
  {
   "cell_type": "markdown",
   "metadata": {},
   "source": [
    "### Typeface\n",
    "\n",
    "Typeface is the design of a collection of characters, (eg. Futura). Different typeface has different style and history. With that in mind, when the designer choose for which typeface to use in their project, it is better to consider about these factors in mind. Who are the target audience? What is the message that want to be delivered? And what emotion the designer has?\n",
    "\n",
    "When choosing the typeface, there are some topology that can be of used to describe the characteristics of the typeface.\n"
   ]
  },
  {
   "cell_type": "markdown",
   "metadata": {},
   "source": [
    "![](./imgs/typo_topo.jpg)\n",
    "\n",
    "[source : myfirstfont](http://www.myfirstfont.com/glossary.html)"
   ]
  },
  {
   "cell_type": "markdown",
   "metadata": {},
   "source": [
    "Among them, `x-height` and `cap-height` are probably two main factors that can change legibility of the typeface.\n",
    "\n",
    "`x-height` with above 60% of `cap-height` are suitable for `Display typeface (Header)`\n",
    "\n",
    "`x-height` with below 60% of `cap-height` are suitable for `Text typeface (body, footer, etc)`"
   ]
  },
  {
   "cell_type": "markdown",
   "metadata": {},
   "source": [
    "### Different Style\n",
    "\n",
    "The different typeface has different usage. \n",
    "- Serifs, which starts the font in computer, has an old history and sometime have more legibility than san-serifs.\n",
    "- San-Serifs, `san` mean `none`, so there are no tip in font. The problem with san serifs is that with some characters, it can get confused. for example, `Ill`.\n",
    "- Scripts, writing style font\n",
    "\n",
    "\n",
    "![](./imgs/serif.jpeg)"
   ]
  },
  {
   "cell_type": "markdown",
   "metadata": {},
   "source": [
    "## Infographic\n",
    "\n",
    "![](./infographic/typography.jpeg)"
   ]
  },
  {
   "cell_type": "markdown",
   "metadata": {},
   "source": [
    "## Conclusion\n",
    "\n",
    "\n",
    "In conclusion, when choosing the font for the project, designer should consider the following points:\n",
    "- Does the font have version for Regular, bold, italic, stylic and etc.\n",
    "- What is the style, history and emotion of the font.\n",
    "- The contract, legibility of the typeface.\n",
    "- The spacing (leading, measure, tracking of the font)\n",
    "- Care for the color blindness audience.\n",
    "- Avoid dangling\n",
    "- Consider difference pairing.\n",
    "- Hierarchy\n",
    "- Reponsive Design"
   ]
  },
  {
   "cell_type": "code",
   "execution_count": null,
   "metadata": {},
   "outputs": [],
   "source": []
  }
 ],
 "metadata": {
  "kernelspec": {
   "display_name": "Python 3",
   "language": "python",
   "name": "python3"
  },
  "language_info": {
   "codemirror_mode": {
    "name": "ipython",
    "version": 3
   },
   "file_extension": ".py",
   "mimetype": "text/x-python",
   "name": "python",
   "nbconvert_exporter": "python",
   "pygments_lexer": "ipython3",
   "version": "3.8.5"
  }
 },
 "nbformat": 4,
 "nbformat_minor": 4
}
